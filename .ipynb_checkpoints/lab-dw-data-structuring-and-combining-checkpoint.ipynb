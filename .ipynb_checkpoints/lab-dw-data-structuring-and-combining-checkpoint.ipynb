{
 "cells": [
  {
   "cell_type": "markdown",
   "id": "25d7736c-ba17-4aff-b6bb-66eba20fbf4e",
   "metadata": {
    "id": "25d7736c-ba17-4aff-b6bb-66eba20fbf4e"
   },
   "source": [
    "# Lab | Data Structuring and Combining Data"
   ]
  },
  {
   "cell_type": "markdown",
   "id": "a2cdfc70-44c8-478c-81e7-2bc43fdf4986",
   "metadata": {
    "id": "a2cdfc70-44c8-478c-81e7-2bc43fdf4986"
   },
   "source": [
    "## Challenge 1: Combining & Cleaning Data\n",
    "\n",
    "In this challenge, we will be working with the customer data from an insurance company, as we did in the two previous labs. The data can be found here:\n",
    "- https://raw.githubusercontent.com/data-bootcamp-v4/data/main/file1.csv\n",
    "\n",
    "But this time, we got new data, which can be found in the following 2 CSV files located at the links below.\n",
    "\n",
    "- https://raw.githubusercontent.com/data-bootcamp-v4/data/main/file2.csv\n",
    "- https://raw.githubusercontent.com/data-bootcamp-v4/data/main/file3.csv\n",
    "\n",
    "Note that you'll need to clean and format the new data.\n",
    "\n",
    "Observation:\n",
    "- One option is to first combine the three datasets and then apply the cleaning function to the new combined dataset\n",
    "- Another option would be to read the clean file you saved in the previous lab, and just clean the two new files and concatenate the three clean datasets"
   ]
  },
  {
   "cell_type": "code",
   "execution_count": null,
   "id": "492d06e3-92c7-4105-ac72-536db98d3244",
   "metadata": {
    "id": "492d06e3-92c7-4105-ac72-536db98d3244"
   },
   "outputs": [],
   "source": [
    "import pandas as pd\n",
    "\n",
    "# Read the CSV files\n",
    "df1 = pd.read_csv('https://raw.githubusercontent.com/data-bootcamp-v4/data/main/file1.csv')\n",
    "df2 = pd.read_csv('https://raw.githubusercontent.com/data-bootcamp-v4/data/main/file2.csv')\n",
    "df3 = pd.read_csv('https://raw.githubusercontent.com/data-bootcamp-v4/data/main/file3.csv')\n",
    "\n",
    "# Display the first few rows of each DataFrame\n",
    "print('df1')\n",
    "print(df1.head())\n",
    "print('\\ndf2')\n",
    "print(df2.head())\n",
    "print('\\ndf3')\n",
    "print(df3.head())"
   ]
  },
  {
   "cell_type": "markdown",
   "id": "38cacebc-8441-47ac-a18f-d0d15f52b849",
   "metadata": {},
   "source": [
    "### Standarize column names:\n",
    "- 'ST' to 'state' in df1 and df2\n",
    "- all to lower case\n",
    "- replace empty space with underscores"
   ]
  },
  {
   "cell_type": "code",
   "execution_count": null,
   "id": "33445241-61e3-4421-9d0d-2ed1fae18c29",
   "metadata": {},
   "outputs": [],
   "source": [
    "dataframes = [df1, df2, df3]\n",
    "\n",
    "def standardize_column_names(df):\n",
    "    for df in dataframes:\n",
    "        df.columns = (df.columns\n",
    "                   .str.lower()                \n",
    "                   .str.replace(' ', '_')) \n",
    "    return df\n",
    "        \n",
    "standardize_column_names(dataframes)\n",
    "print('df1', df1.columns.tolist())\n",
    "print('df2', df2.columns.tolist())\n",
    "print('df3', df3.columns.tolist())"
   ]
  },
  {
   "cell_type": "markdown",
   "id": "f200d57a-fc53-4a17-85a2-b9dbea88d158",
   "metadata": {},
   "source": [
    "### Use consistent naming conventions"
   ]
  },
  {
   "cell_type": "code",
   "execution_count": null,
   "id": "03c18a98-aaa1-4693-bf3b-bdac1fabd7c9",
   "metadata": {},
   "outputs": [],
   "source": [
    "column_mapping = {\n",
    "    'st': 'state',\n",
    "    'customer_lifetime_value': 'lifetime_value',\n",
    "    'monthly_premium_auto': 'monthly_auto_premium',\n",
    "    'number_of_open_complaints': 'open_complaints',\n",
    "    'vehicle_class': 'vehicle_type',\n",
    "}\n",
    "\n",
    "def rename_columns(df):   \n",
    "        for df in dataframes:\n",
    "            df.rename(columns=column_mapping, inplace=True) # rename the columns using the mapping\n",
    "        return df\n",
    "     \n",
    "rename_columns(dataframes)\n",
    "\n",
    "print('df1', df1.columns.tolist())\n",
    "print('df2', df2.columns.tolist())\n",
    "print('df3', df3.columns.tolist())"
   ]
  },
  {
   "cell_type": "code",
   "execution_count": null,
   "id": "09cf310d-6182-44a6-a52c-759a4f7c0b44",
   "metadata": {},
   "outputs": [],
   "source": [
    "# Display the first few rows of each DataFrame\n",
    "print('df1')\n",
    "print(df1.head(25))\n",
    "print('\\ndf2')\n",
    "print(df2.head(25))\n",
    "print('\\ndf3')\n",
    "print(df3.head(25))"
   ]
  },
  {
   "cell_type": "markdown",
   "id": "886741aa-f8ff-4315-9032-ca3a70890139",
   "metadata": {},
   "source": [
    "### Check datatypes of each column"
   ]
  },
  {
   "cell_type": "code",
   "execution_count": null,
   "id": "9dc6960c-ff71-4907-b4cc-edef26e6df36",
   "metadata": {},
   "outputs": [],
   "source": [
    "def get_column_datatypes(dataframes):\n",
    "    for df in dataframes:\n",
    "        print(f\"\\nData Types:\\n\")\n",
    "        print(df.dtypes)\n",
    "\n",
    "get_column_datatypes(dataframes)\n",
    "\n",
    "# print(\"df1 Data Types:\")\n",
    "# print(df1.dtypes)"
   ]
  },
  {
   "cell_type": "markdown",
   "id": "69240639-d109-4d28-92ad-9f5aeec508e6",
   "metadata": {},
   "source": [
    "### Convert column datatypes:\n",
    "- income: int64 (df1)\n",
    "- monthly_auto_premium: int64 (df1)\n",
    "\n",
    "(the lambda function will take NaN values into account, while converting floats into integers and removing the dot notation)"
   ]
  },
  {
   "cell_type": "code",
   "execution_count": null,
   "id": "525a8512-ff69-4706-b87b-e61364e1a201",
   "metadata": {},
   "outputs": [],
   "source": [
    "import numpy as np\n",
    "\n",
    "df1['income'] = df1['income'].apply(lambda x: int(np.floor(x)) if pd.notna(x) else x).astype('Int64')\n",
    "df1['monthly_auto_premium'] = df1['monthly_auto_premium'].apply(lambda x: int(np.floor(x)) if pd.notna(x) else x).astype('Int64')\n",
    "\n",
    "\n",
    "df1.head(50)"
   ]
  },
  {
   "cell_type": "markdown",
   "id": "e4ea4564-b3fb-46e4-8e39-2438cb19d0d2",
   "metadata": {},
   "source": [
    "### Convert fractions to string in 'open_complaints' (df3)"
   ]
  },
  {
   "cell_type": "code",
   "execution_count": null,
   "id": "8818389a-f4a3-4461-a96a-9f2fa987a3fc",
   "metadata": {},
   "outputs": [],
   "source": [
    "def convert_fraction_to_integer(value):\n",
    "    if isinstance(value, str):\n",
    "        return int(value.split('/')[0])  # Take the first part as integer\n",
    "    return value\n",
    "\n",
    "# Apply the conversion function to the 'open_complaints' column\n",
    "df3['open_complaints'] = df3['open_complaints'].apply(convert_fraction_to_integer)\n",
    "\n",
    "print(df3)"
   ]
  },
  {
   "cell_type": "markdown",
   "id": "c31570be-f6bf-4fed-a45f-4279cc532ff3",
   "metadata": {},
   "source": [
    "### Merge DataFrames"
   ]
  },
  {
   "cell_type": "code",
   "execution_count": null,
   "id": "30a180df-edb4-42ef-87b5-aa86e1ebfd67",
   "metadata": {},
   "outputs": [],
   "source": [
    "# Merge the datasets vertically\n",
    "merged_df = pd.concat([df1, df2, df3], ignore_index=True, sort=False)\n",
    "\n",
    "# Group by columns and sum up matching ones\n",
    "merged_df = merged_df.groupby(merged_df.columns.tolist(), as_index=False).sum()\n",
    "\n",
    "print(merged_df)"
   ]
  },
  {
   "cell_type": "markdown",
   "id": "73c779d0-05cc-4fc2-8f54-80af2f6a9b87",
   "metadata": {},
   "source": [
    "### Check unique values"
   ]
  },
  {
   "cell_type": "code",
   "execution_count": null,
   "id": "e4856e06-199b-419e-b954-25863675eedc",
   "metadata": {},
   "outputs": [],
   "source": [
    "unique_values = merged_df.apply(lambda col: col.unique())\n",
    "for column, unique in unique_values.items():\n",
    "    print(f\"Unique values in '{column}': {unique}\")"
   ]
  },
  {
   "cell_type": "markdown",
   "id": "e3800ead-e20f-4d68-a22e-d5e386ad2a7c",
   "metadata": {},
   "source": [
    "### Handle unique values:\n",
    "\n",
    "'state' column:\n",
    "- 'Cali': 'California'\n",
    "- 'AZ': 'Arizona'\n",
    "- 'WA': 'Washington'\n",
    "\n",
    "'gender' column:\n",
    "- 'Femal': 'F'\n",
    "- 'Male': 'M'\n",
    "- 'female': 'F'\n",
    "\n",
    "'education' column:\n",
    "- Bachelors': 'Bachelor'\n",
    "- Doctor: PhD"
   ]
  },
  {
   "cell_type": "markdown",
   "id": "206dcc5f-18bd-4aaa-877b-21d1d4fbad96",
   "metadata": {},
   "source": [
    "### Gender column:\n",
    "Rename unique values"
   ]
  },
  {
   "cell_type": "code",
   "execution_count": null,
   "id": "3248394e-50c4-4ad5-9e11-69d078836ffc",
   "metadata": {},
   "outputs": [],
   "source": [
    "gender_mapping = {\n",
    "    'Femal': 'F',\n",
    "    'Male': 'M',\n",
    "    'female': 'F'\n",
    "}\n",
    "\n",
    "merged_df['gender'] = merged_df['gender'].replace(gender_mapping)"
   ]
  },
  {
   "cell_type": "markdown",
   "id": "14cb2a38-f825-4363-8e93-8f901079fc73",
   "metadata": {},
   "source": [
    "### State column\n",
    "Rename unique values"
   ]
  },
  {
   "cell_type": "code",
   "execution_count": null,
   "id": "15a7ce0d-c24a-454d-88e2-da4fa1fac413",
   "metadata": {},
   "outputs": [],
   "source": [
    "state_mapping = {\n",
    "    'Cali': 'California',\n",
    "    'AZ': 'Arizona',\n",
    "    'WA': 'Washington'\n",
    "}\n",
    "\n",
    "# Replace the values in the 'state' column based on the mapping\n",
    "merged_df['state'] = merged_df['state'].replace(state_mapping)"
   ]
  },
  {
   "cell_type": "markdown",
   "id": "8f9d2a9e-2491-44ea-9f63-e3dcb6e78a36",
   "metadata": {},
   "source": [
    "### Education colum\n",
    "Rename unique values"
   ]
  },
  {
   "cell_type": "code",
   "execution_count": null,
   "id": "914ac215-5ec3-44e1-95a5-6cd62709df98",
   "metadata": {},
   "outputs": [],
   "source": [
    "education_mapping = {\n",
    "    'Bachelors': 'Bachelor',\n",
    "    'Doctor': 'PhD',\n",
    "    'High School or Below': 'High School'\n",
    "}\n",
    "\n",
    "# Replace the values in the 'education' column based on the mapping\n",
    "merged_df['education'] = merged_df['education'].replace(education_mapping)\n",
    "\n",
    "print(merged_df)"
   ]
  },
  {
   "cell_type": "markdown",
   "id": "27465f01-9d9f-498b-854c-e7d6ca19de91",
   "metadata": {},
   "source": [
    "### Vehicle column"
   ]
  },
  {
   "cell_type": "code",
   "execution_count": null,
   "id": "6b947539-9b83-4615-af08-4637d1458ef7",
   "metadata": {},
   "outputs": [],
   "source": [
    "vehicle_type_mapping = {\n",
    "    'SUV': 'SUV',\n",
    "    'Two-Door Car': 'Coupe',\n",
    "    'Four-Door Car': 'Sedan',\n",
    "    'Sports Car': 'Sport Car',\n",
    "    'Luxury Car': 'Luxury Sedan'\n",
    "}\n",
    "\n",
    "# Replace the values in the 'vehicle_type' column based on the mapping\n",
    "merged_df['vehicle_type'] = merged_df['vehicle_type'].replace(vehicle_type_mapping)\n",
    "\n",
    "print(merged_df)"
   ]
  },
  {
   "cell_type": "code",
   "execution_count": null,
   "id": "db893d87-7965-4bb7-9382-fc0b0541796f",
   "metadata": {},
   "outputs": [],
   "source": [
    "unique_values = merged_df.apply(lambda col: col.unique())\n",
    "for column, unique in unique_values.items():\n",
    "    print(f\"Unique values in '{column}': {unique}\")"
   ]
  },
  {
   "cell_type": "markdown",
   "id": "31b8a9e7-7db9-4604-991b-ef6771603e57",
   "metadata": {
    "id": "31b8a9e7-7db9-4604-991b-ef6771603e57"
   },
   "source": [
    "# Challenge 2: Structuring Data"
   ]
  },
  {
   "cell_type": "markdown",
   "id": "a877fd6d-7a0c-46d2-9657-f25036e4ca4b",
   "metadata": {
    "id": "a877fd6d-7a0c-46d2-9657-f25036e4ca4b"
   },
   "source": [
    "In this challenge, we will continue to work with customer data from an insurance company, but we will use a dataset with more columns, called marketing_customer_analysis.csv, which can be found at the following link:\n",
    "\n",
    "https://raw.githubusercontent.com/data-bootcamp-v4/data/main/marketing_customer_analysis_clean.csv\n",
    "\n",
    "This dataset contains information such as customer demographics, policy details, vehicle information, and the customer's response to the last marketing campaign. Our goal is to explore and analyze this data by performing data cleaning, formatting, and structuring."
   ]
  },
  {
   "cell_type": "markdown",
   "id": "81995a3b-fbc3-4b9e-bb5c-06fcd96ff7d0",
   "metadata": {
    "id": "aa10d9b0-1c27-4d3f-a8e4-db6ab73bfd26"
   },
   "source": [
    "### Load data"
   ]
  },
  {
   "cell_type": "code",
   "execution_count": null,
   "id": "f09b5920-65d6-46f9-903e-9887950befe5",
   "metadata": {},
   "outputs": [],
   "source": [
    "url = \"https://raw.githubusercontent.com/data-bootcamp-v4/data/main/marketing_customer_analysis_clean.csv\"\n",
    "data = pd.read_csv(url)"
   ]
  },
  {
   "cell_type": "code",
   "execution_count": null,
   "id": "a3e1401f-5373-47cc-9922-2251a0e8d2cd",
   "metadata": {},
   "outputs": [],
   "source": [
    "# Check the first few rows of the dataset\n",
    "print(data.head())\n",
    "\n",
    "# Get a summary of the dataset\n",
    "print(\"\\nDataset summary\\n\")\n",
    "print(data.info())\n",
    "\n",
    "# Get basic statistics for numerical columns\n",
    "print(\"\\nBasic stats for numerical columns\\n\")\n",
    "print(data.describe())"
   ]
  },
  {
   "cell_type": "markdown",
   "id": "be202d61-7181-4f1b-81ce-b62f3d285f4d",
   "metadata": {},
   "source": [
    "### Rename columns"
   ]
  },
  {
   "cell_type": "code",
   "execution_count": null,
   "id": "f343b1e8-96c3-492b-8f48-1643df148bdd",
   "metadata": {},
   "outputs": [],
   "source": [
    "# Rename columns\n",
    "data.columns = [\n",
    "    'index', 'customer_id', 'state', 'lifetime_value', 'response',\n",
    "    'coverage_type', 'education', 'effective_to_date', 'employment_status',\n",
    "    'gender', 'income', 'location_code', 'marital_status', 'monthly_premium_auto',\n",
    "    'months_since_last_claim', 'months_since_policy_inception', 'open_complaints',\n",
    "    'policies_count', 'policy_type', 'policy_id', 'renew_offer_type',\n",
    "    'sales_channel', 'total_claim_amount', 'vehicle_class', 'vehicle_size',\n",
    "    'vehicle_type', 'month'\n",
    "]\n",
    "\n",
    "# print(\"\\nDataset summary\\n\")\n",
    "# print(data.info())"
   ]
  },
  {
   "cell_type": "markdown",
   "id": "c563f864-c720-462b-803d-c9bbfe74d08c",
   "metadata": {},
   "source": [
    "### Check unique values"
   ]
  },
  {
   "cell_type": "code",
   "execution_count": null,
   "id": "d6905897-2d0e-4c6d-a40d-1dac24d0f932",
   "metadata": {},
   "outputs": [],
   "source": [
    "unique_values = data.apply(lambda col: col.unique())\n",
    "for column, unique in unique_values.items():\n",
    "    print(f\"Unique values in '{column}': {unique}\")"
   ]
  },
  {
   "cell_type": "code",
   "execution_count": null,
   "id": "99d1be50-185a-4944-81fd-67acd40ade5c",
   "metadata": {},
   "outputs": [],
   "source": [
    "data\n"
   ]
  },
  {
   "cell_type": "markdown",
   "id": "75b61a94-16c4-4264-8b5f-318f0b10e3ec",
   "metadata": {},
   "source": [
    "### Data cleaning"
   ]
  },
  {
   "cell_type": "code",
   "execution_count": null,
   "id": "709cc23c-b6b6-4cc4-8964-26928f2eb63c",
   "metadata": {},
   "outputs": [],
   "source": [
    "# check missing values\n",
    "missing_values = data.isnull().sum()\n",
    "print(missing_values[missing_values > 0])"
   ]
  },
  {
   "cell_type": "code",
   "execution_count": null,
   "id": "5926c81b-3b98-4cc4-9a43-3ace113f88f3",
   "metadata": {},
   "outputs": [],
   "source": [
    "# drop duplicates (there were none)\n",
    "data = data.drop_duplicates()"
   ]
  },
  {
   "cell_type": "markdown",
   "id": "df35fd0d-513e-4e77-867e-429da10a9cc7",
   "metadata": {
    "id": "df35fd0d-513e-4e77-867e-429da10a9cc7"
   },
   "source": [
    "1. You work at the marketing department and you want to know which sales channel brought the most sales in terms of total revenue. Using pivot, create a summary table showing the total revenue for each sales channel (branch, call center, web, and mail).\n",
    "Round the total revenue to 2 decimal points.\n",
    "Analyze the resulting table to draw insights."
   ]
  },
  {
   "cell_type": "markdown",
   "id": "115721c6-a684-4b1a-8683-37a8eee78b63",
   "metadata": {},
   "source": [
    "### Total revenue by sales channel"
   ]
  },
  {
   "cell_type": "code",
   "execution_count": null,
   "id": "59a0a5b4-6896-46c3-8557-8988bf26ad0b",
   "metadata": {},
   "outputs": [],
   "source": [
    "total_revenue_by_channel = data.pivot_table(\n",
    "    index='sales_channel',\n",
    "    values='total_claim_amount',\n",
    "    aggfunc='sum'\n",
    ").round(2)\n",
    "print(\"Total revenue by sales channel\\n\")\n",
    "display(total_revenue_by_channel)"
   ]
  },
  {
   "cell_type": "markdown",
   "id": "54d7f64a-bbff-4311-8fae-43bba6a6b281",
   "metadata": {},
   "source": [
    "### Insights from Total Revenue by Sales Channel\n",
    "\n",
    "- Branch: If this channel has the highest revenue, it could indicate strong in-person relationships and trust.\n",
    "- Call Center: A significant amount of revenue here might reflect effective customer service.\n",
    "- Web: High web revenue could suggest a successful online marketing strategy.\n",
    "- Mail: If this is lower, it may indicate a need to improve direct mail campaigns."
   ]
  },
  {
   "cell_type": "markdown",
   "id": "640993b2-a291-436c-a34d-a551144f8196",
   "metadata": {
    "id": "640993b2-a291-436c-a34d-a551144f8196"
   },
   "source": [
    "2. Create a pivot table that shows the average customer lifetime value per gender and education level. Analyze the resulting table to draw insights."
   ]
  },
  {
   "cell_type": "code",
   "execution_count": null,
   "id": "6c23a73f-b160-442f-bfb3-fb2e797b107a",
   "metadata": {},
   "outputs": [],
   "source": [
    "### Average customer lifetime value per gender and education level"
   ]
  },
  {
   "cell_type": "code",
   "execution_count": null,
   "id": "bea51154-8fd8-496d-a2ed-1807f5fa9dfd",
   "metadata": {},
   "outputs": [],
   "source": [
    "average_clv_by_gender_education = data.pivot_table(\n",
    "    index='gender',\n",
    "    columns='education',\n",
    "    values='lifetime_value',\n",
    "    aggfunc='mean'\n",
    ").round(2)\n",
    "\n",
    "print(\"Average customer lifetime value per gender and education level\\n\")\n",
    "display(average_clv_by_gender_education)"
   ]
  },
  {
   "cell_type": "markdown",
   "id": "32c7f2e5-3d90-43e5-be33-9781b6069198",
   "metadata": {
    "id": "32c7f2e5-3d90-43e5-be33-9781b6069198"
   },
   "source": [
    "## Bonus\n",
    "\n",
    "You work at the customer service department and you want to know which months had the highest number of complaints by policy type category. Create a summary table showing the number of complaints by policy type and month.\n",
    "Show it in a long format table."
   ]
  },
  {
   "cell_type": "markdown",
   "id": "42fce6d4-6685-4e64-8049-c84d5e5f0542",
   "metadata": {},
   "source": [
    "### Group Data"
   ]
  },
  {
   "cell_type": "code",
   "execution_count": null,
   "id": "916f9954-512b-4285-8205-988cceea6616",
   "metadata": {},
   "outputs": [],
   "source": [
    "# group by policy type and month, counting the number of complaints\n",
    "complaints_summary = data.groupby(['policy_type', 'month'])['open_complaints'].sum().reset_index()\n",
    "\n",
    "print(\"Complaints summary\\n\")\n",
    "display(complaints_summary)"
   ]
  },
  {
   "cell_type": "markdown",
   "id": "e3d09a8f-953c-448a-a5f8-2e5a8cca7291",
   "metadata": {
    "id": "e3d09a8f-953c-448a-a5f8-2e5a8cca7291"
   },
   "source": [
    "*In data analysis, a long format table is a way of structuring data in which each observation or measurement is stored in a separate row of the table. The key characteristic of a long format table is that each column represents a single variable, and each row represents a single observation of that variable.*\n",
    "\n",
    "*More information about long and wide format tables here: https://www.statology.org/long-vs-wide-data/*"
   ]
  }
 ],
 "metadata": {
  "colab": {
   "provenance": []
  },
  "kernelspec": {
   "display_name": "Python 3 (ipykernel)",
   "language": "python",
   "name": "python3"
  },
  "language_info": {
   "codemirror_mode": {
    "name": "ipython",
    "version": 3
   },
   "file_extension": ".py",
   "mimetype": "text/x-python",
   "name": "python",
   "nbconvert_exporter": "python",
   "pygments_lexer": "ipython3",
   "version": "3.12.2"
  }
 },
 "nbformat": 4,
 "nbformat_minor": 5
}

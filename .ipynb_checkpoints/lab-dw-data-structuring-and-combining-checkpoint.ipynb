{
 "cells": [
  {
   "cell_type": "markdown",
   "id": "25d7736c-ba17-4aff-b6bb-66eba20fbf4e",
   "metadata": {
    "id": "25d7736c-ba17-4aff-b6bb-66eba20fbf4e"
   },
   "source": [
    "# Lab | Data Structuring and Combining Data"
   ]
  },
  {
   "cell_type": "markdown",
   "id": "a2cdfc70-44c8-478c-81e7-2bc43fdf4986",
   "metadata": {
    "id": "a2cdfc70-44c8-478c-81e7-2bc43fdf4986"
   },
   "source": [
    "## Challenge 1: Combining & Cleaning Data\n",
    "\n",
    "In this challenge, we will be working with the customer data from an insurance company, as we did in the two previous labs. The data can be found here:\n",
    "- https://raw.githubusercontent.com/data-bootcamp-v4/data/main/file1.csv\n",
    "\n",
    "But this time, we got new data, which can be found in the following 2 CSV files located at the links below.\n",
    "\n",
    "- https://raw.githubusercontent.com/data-bootcamp-v4/data/main/file2.csv\n",
    "- https://raw.githubusercontent.com/data-bootcamp-v4/data/main/file3.csv\n",
    "\n",
    "Note that you'll need to clean and format the new data.\n",
    "\n",
    "Observation:\n",
    "- One option is to first combine the three datasets and then apply the cleaning function to the new combined dataset\n",
    "- Another option would be to read the clean file you saved in the previous lab, and just clean the two new files and concatenate the three clean datasets"
   ]
  },
  {
   "cell_type": "code",
   "execution_count": 3,
   "id": "492d06e3-92c7-4105-ac72-536db98d3244",
   "metadata": {
    "id": "492d06e3-92c7-4105-ac72-536db98d3244"
   },
   "outputs": [
    {
     "name": "stdout",
     "output_type": "stream",
     "text": [
      "df1\n",
      "  Customer          ST GENDER             Education Customer Lifetime Value  \\\n",
      "0  RB50392  Washington    NaN                Master                     NaN   \n",
      "1  QZ44356     Arizona      F              Bachelor              697953.59%   \n",
      "2  AI49188      Nevada      F              Bachelor             1288743.17%   \n",
      "3  WW63253  California      M              Bachelor              764586.18%   \n",
      "4  GA49547  Washington      M  High School or Below              536307.65%   \n",
      "\n",
      "    Income  Monthly Premium Auto Number of Open Complaints     Policy Type  \\\n",
      "0      0.0                1000.0                    1/0/00   Personal Auto   \n",
      "1      0.0                  94.0                    1/0/00   Personal Auto   \n",
      "2  48767.0                 108.0                    1/0/00   Personal Auto   \n",
      "3      0.0                 106.0                    1/0/00  Corporate Auto   \n",
      "4  36357.0                  68.0                    1/0/00   Personal Auto   \n",
      "\n",
      "   Vehicle Class  Total Claim Amount  \n",
      "0  Four-Door Car            2.704934  \n",
      "1  Four-Door Car         1131.464935  \n",
      "2   Two-Door Car          566.472247  \n",
      "3            SUV          529.881344  \n",
      "4  Four-Door Car           17.269323  \n",
      "\n",
      "df2\n",
      "  Customer          ST GENDER Education Customer Lifetime Value  Income  \\\n",
      "0  GS98873     Arizona      F  Bachelor              323912.47%   16061   \n",
      "1  CW49887  California      F    Master              462680.11%   79487   \n",
      "2  MY31220  California      F   College              899704.02%   54230   \n",
      "3  UH35128      Oregon      F   College             2580706.30%   71210   \n",
      "4  WH52799     Arizona      F   College              380812.21%   94903   \n",
      "\n",
      "   Monthly Premium Auto Number of Open Complaints  Total Claim Amount  \\\n",
      "0                    88                    1/0/00               633.6   \n",
      "1                   114                    1/0/00               547.2   \n",
      "2                   112                    1/0/00               537.6   \n",
      "3                   214                    1/1/00              1027.2   \n",
      "4                    94                    1/0/00               451.2   \n",
      "\n",
      "      Policy Type  Vehicle Class  \n",
      "0   Personal Auto  Four-Door Car  \n",
      "1    Special Auto            SUV  \n",
      "2   Personal Auto   Two-Door Car  \n",
      "3   Personal Auto     Luxury Car  \n",
      "4  Corporate Auto   Two-Door Car  \n",
      "\n",
      "df3\n",
      "  Customer       State  Customer Lifetime Value             Education Gender  \\\n",
      "0  SA25987  Washington              3479.137523  High School or Below      M   \n",
      "1  TB86706     Arizona              2502.637401                Master      M   \n",
      "2  ZL73902      Nevada              3265.156348              Bachelor      F   \n",
      "3  KX23516  California              4455.843406  High School or Below      F   \n",
      "4  FN77294  California              7704.958480  High School or Below      M   \n",
      "\n",
      "   Income  Monthly Premium Auto  Number of Open Complaints    Policy Type  \\\n",
      "0       0                   104                          0  Personal Auto   \n",
      "1       0                    66                          0  Personal Auto   \n",
      "2   25820                    82                          0  Personal Auto   \n",
      "3       0                   121                          0  Personal Auto   \n",
      "4   30366                   101                          2  Personal Auto   \n",
      "\n",
      "   Total Claim Amount  Vehicle Class  \n",
      "0          499.200000   Two-Door Car  \n",
      "1            3.468912   Two-Door Car  \n",
      "2          393.600000  Four-Door Car  \n",
      "3          699.615192            SUV  \n",
      "4          484.800000            SUV  \n"
     ]
    }
   ],
   "source": [
    "import pandas as pd\n",
    "\n",
    "# Read the CSV files\n",
    "df1 = pd.read_csv('https://raw.githubusercontent.com/data-bootcamp-v4/data/main/file1.csv')\n",
    "df2 = pd.read_csv('https://raw.githubusercontent.com/data-bootcamp-v4/data/main/file2.csv')\n",
    "df3 = pd.read_csv('https://raw.githubusercontent.com/data-bootcamp-v4/data/main/file3.csv')\n",
    "\n",
    "# Display the first few rows of each DataFrame\n",
    "print('df1')\n",
    "print(df1.head())\n",
    "print('\\ndf2')\n",
    "print(df2.head())\n",
    "print('\\ndf3')\n",
    "print(df3.head())"
   ]
  },
  {
   "cell_type": "markdown",
   "id": "38cacebc-8441-47ac-a18f-d0d15f52b849",
   "metadata": {},
   "source": [
    "Standarize column names:\n",
    "- 'ST' to 'state'\n",
    "- all to lower case\n",
    "- replace empty space with underscores\n",
    "- "
   ]
  },
  {
   "cell_type": "code",
   "execution_count": 25,
   "id": "33445241-61e3-4421-9d0d-2ed1fae18c29",
   "metadata": {},
   "outputs": [
    {
     "name": "stdout",
     "output_type": "stream",
     "text": [
      "df1 ['custateateomer', 'stateate', 'gender', 'education', 'custateateomer_lifetime_value', 'income', 'monthly_premium_auto', 'number_of_open_complaints', 'policy_type', 'vehicle_class', 'total_claim_amount']\n",
      "df2 ['custateateomer', 'stateate', 'gender', 'education', 'custateateomer_lifetime_value', 'income', 'monthly_premium_auto', 'number_of_open_complaints', 'total_claim_amount', 'policy_type', 'vehicle_class']\n",
      "df3 ['custateateomer', 'stateateate', 'custateateomer_lifetime_value', 'education', 'gender', 'income', 'monthly_premium_auto', 'number_of_open_complaints', 'policy_type', 'total_claim_amount', 'vehicle_class']\n"
     ]
    }
   ],
   "source": [
    "# print('df1', df1.columns.tolist())\n",
    "# print('df2', df2.columns.tolist())\n",
    "# print('df3', df3.columns.tolist())\n",
    "dataframes = [df1, df2, df3]\n",
    "\n",
    "def standardize_column_names(df):\n",
    "    for df in dataframes:\n",
    "        df.columns = (df.columns\n",
    "                   .str.lower()                # Convert to lower case\n",
    "                   .str.replace(' ', '_'))      # Replace spaces with underscores\n",
    "                   # .str.replace('st', 'state'))  # Replace 'st' with 'state'\n",
    "    return df\n",
    "        \n",
    "\n",
    "standardize_column_names(dataframes)\n",
    "print('df1', df1.columns.tolist())\n",
    "print('df2', df2.columns.tolist())\n",
    "print('df3', df3.columns.tolist())"
   ]
  },
  {
   "cell_type": "markdown",
   "id": "31b8a9e7-7db9-4604-991b-ef6771603e57",
   "metadata": {
    "id": "31b8a9e7-7db9-4604-991b-ef6771603e57"
   },
   "source": [
    "# Challenge 2: Structuring Data"
   ]
  },
  {
   "cell_type": "markdown",
   "id": "a877fd6d-7a0c-46d2-9657-f25036e4ca4b",
   "metadata": {
    "id": "a877fd6d-7a0c-46d2-9657-f25036e4ca4b"
   },
   "source": [
    "In this challenge, we will continue to work with customer data from an insurance company, but we will use a dataset with more columns, called marketing_customer_analysis.csv, which can be found at the following link:\n",
    "\n",
    "https://raw.githubusercontent.com/data-bootcamp-v4/data/main/marketing_customer_analysis_clean.csv\n",
    "\n",
    "This dataset contains information such as customer demographics, policy details, vehicle information, and the customer's response to the last marketing campaign. Our goal is to explore and analyze this data by performing data cleaning, formatting, and structuring."
   ]
  },
  {
   "cell_type": "code",
   "execution_count": 7,
   "id": "aa10d9b0-1c27-4d3f-a8e4-db6ab73bfd26",
   "metadata": {
    "id": "aa10d9b0-1c27-4d3f-a8e4-db6ab73bfd26"
   },
   "outputs": [],
   "source": [
    "# Your code goes here"
   ]
  },
  {
   "cell_type": "markdown",
   "id": "df35fd0d-513e-4e77-867e-429da10a9cc7",
   "metadata": {
    "id": "df35fd0d-513e-4e77-867e-429da10a9cc7"
   },
   "source": [
    "1. You work at the marketing department and you want to know which sales channel brought the most sales in terms of total revenue. Using pivot, create a summary table showing the total revenue for each sales channel (branch, call center, web, and mail).\n",
    "Round the total revenue to 2 decimal points.  Analyze the resulting table to draw insights."
   ]
  },
  {
   "cell_type": "markdown",
   "id": "640993b2-a291-436c-a34d-a551144f8196",
   "metadata": {
    "id": "640993b2-a291-436c-a34d-a551144f8196"
   },
   "source": [
    "2. Create a pivot table that shows the average customer lifetime value per gender and education level. Analyze the resulting table to draw insights."
   ]
  },
  {
   "cell_type": "markdown",
   "id": "32c7f2e5-3d90-43e5-be33-9781b6069198",
   "metadata": {
    "id": "32c7f2e5-3d90-43e5-be33-9781b6069198"
   },
   "source": [
    "## Bonus\n",
    "\n",
    "You work at the customer service department and you want to know which months had the highest number of complaints by policy type category. Create a summary table showing the number of complaints by policy type and month.\n",
    "Show it in a long format table."
   ]
  },
  {
   "cell_type": "markdown",
   "id": "e3d09a8f-953c-448a-a5f8-2e5a8cca7291",
   "metadata": {
    "id": "e3d09a8f-953c-448a-a5f8-2e5a8cca7291"
   },
   "source": [
    "*In data analysis, a long format table is a way of structuring data in which each observation or measurement is stored in a separate row of the table. The key characteristic of a long format table is that each column represents a single variable, and each row represents a single observation of that variable.*\n",
    "\n",
    "*More information about long and wide format tables here: https://www.statology.org/long-vs-wide-data/*"
   ]
  },
  {
   "cell_type": "code",
   "execution_count": 12,
   "id": "3a069e0b-b400-470e-904d-d17582191be4",
   "metadata": {
    "id": "3a069e0b-b400-470e-904d-d17582191be4"
   },
   "outputs": [],
   "source": [
    "# Your code goes here"
   ]
  }
 ],
 "metadata": {
  "colab": {
   "provenance": []
  },
  "kernelspec": {
   "display_name": "Python 3 (ipykernel)",
   "language": "python",
   "name": "python3"
  },
  "language_info": {
   "codemirror_mode": {
    "name": "ipython",
    "version": 3
   },
   "file_extension": ".py",
   "mimetype": "text/x-python",
   "name": "python",
   "nbconvert_exporter": "python",
   "pygments_lexer": "ipython3",
   "version": "3.12.2"
  }
 },
 "nbformat": 4,
 "nbformat_minor": 5
}
